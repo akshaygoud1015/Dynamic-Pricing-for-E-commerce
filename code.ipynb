{
 "cells": [
  {
   "cell_type": "code",
   "execution_count": null,
   "metadata": {},
   "outputs": [],
   "source": [
    "import pandas as pd\n",
    "import numpy as np\n",
    "from sklearn.preprocessing import StandardScaler, LabelEncoder\n"
   ]
  },
  {
   "cell_type": "code",
   "execution_count": null,
   "metadata": {},
   "outputs": [],
   "source": [
    "data = pd.read_csv(\"data.csv\", encoding='latin1')\n"
   ]
  },
  {
   "cell_type": "code",
   "execution_count": null,
   "metadata": {},
   "outputs": [],
   "source": [
    "print(data.info())\n",
    "print(data.describe())"
   ]
  },
  {
   "cell_type": "code",
   "execution_count": null,
   "metadata": {},
   "outputs": [],
   "source": [
    "# 2. Handle missing values\n",
    "data.dropna(subset=[\"InvoiceNo\", \"Description\"], inplace=True)  # Drop rows with critical missing values\n",
    "data[\"UnitPrice\"].fillna(data[\"UnitPrice\"].median(), inplace=True)  # Impute missing prices\n"
   ]
  },
  {
   "cell_type": "code",
   "execution_count": null,
   "metadata": {},
   "outputs": [],
   "source": [
    "data.drop_duplicates(inplace=True)\n"
   ]
  },
  {
   "cell_type": "code",
   "execution_count": null,
   "metadata": {},
   "outputs": [],
   "source": [
    "# 4. Convert data types\n",
    "data[\"InvoiceDate\"] = pd.to_datetime(data[\"InvoiceDate\"])"
   ]
  },
  {
   "cell_type": "code",
   "execution_count": null,
   "metadata": {},
   "outputs": [],
   "source": [
    "# 5. Feature engineering\n",
    "data[\"Month\"] = data[\"InvoiceDate\"].dt.month\n",
    "data[\"Hour\"] = data[\"InvoiceDate\"].dt.hour\n",
    "data[\"Revenue\"] = data[\"Quantity\"] * data[\"UnitPrice\"]\n",
    "\n",
    "# 6. Handle outliers\n",
    "q1, q3 = np.percentile(data[\"UnitPrice\"], [25, 75])\n",
    "iqr = q3 - q1\n",
    "lower_bound, upper_bound = q1 - 1.5 * iqr, q3 + 1.5 * iqr\n",
    "data = data[(data[\"UnitPrice\"] >= lower_bound) & (data[\"UnitPrice\"] <= upper_bound)]\n",
    "\n",
    "# 7. Encode categorical variables\n",
    "encoder = LabelEncoder()\n",
    "data[\"Country\"] = encoder.fit_transform(data[\"Country\"])\n",
    "\n",
    "# 8. Scale numerical features\n",
    "scaler = StandardScaler()\n",
    "data[[\"UnitPrice\", \"Revenue\"]] = scaler.fit_transform(data[[\"UnitPrice\", \"Revenue\"]])"
   ]
  },
  {
   "cell_type": "code",
   "execution_count": null,
   "metadata": {},
   "outputs": [],
   "source": [
    "train_data = data.sample(frac=0.8, random_state=42)\n",
    "test_data = data.drop(train_data.index)\n",
    "\n",
    "print(f\"Train size: {train_data.shape}, Test size: {test_data.shape}\")"
   ]
  },
  {
   "cell_type": "markdown",
   "metadata": {},
   "source": [
    "# 2. Univariate Analysis:\n"
   ]
  },
  {
   "cell_type": "markdown",
   "metadata": {},
   "source": [
    "     Analyzing individual columns"
   ]
  },
  {
   "cell_type": "code",
   "execution_count": null,
   "metadata": {},
   "outputs": [],
   "source": [
    "data['UnitPrice'].hist(bins=20)\n",
    "data['Country'].value_counts().plot(kind='bar')"
   ]
  },
  {
   "cell_type": "markdown",
   "metadata": {},
   "source": [
    "     Plotting numerical distributions\n",
    "     "
   ]
  },
  {
   "cell_type": "code",
   "execution_count": null,
   "metadata": {},
   "outputs": [],
   "source": [
    "import seaborn as sns\n",
    "sns.boxplot(x=data['UnitPrice'])\n"
   ]
  },
  {
   "cell_type": "code",
   "execution_count": null,
   "metadata": {},
   "outputs": [],
   "source": []
  }
 ],
 "metadata": {
  "kernelspec": {
   "display_name": "Python 3",
   "language": "python",
   "name": "python3"
  },
  "language_info": {
   "codemirror_mode": {
    "name": "ipython",
    "version": 3
   },
   "file_extension": ".py",
   "mimetype": "text/x-python",
   "name": "python",
   "nbconvert_exporter": "python",
   "pygments_lexer": "ipython3",
   "version": "3.12.1"
  }
 },
 "nbformat": 4,
 "nbformat_minor": 2
}
